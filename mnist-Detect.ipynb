{
 "cells": [
  {
   "cell_type": "code",
   "execution_count": 1,
   "metadata": {},
   "outputs": [
    {
     "name": "stdout",
     "output_type": "stream",
     "text": [
      "Model: \"sequential\"\n",
      "_________________________________________________________________\n",
      "Layer (type)                 Output Shape              Param #   \n",
      "=================================================================\n",
      "dense (Dense)                (None, 400)               314000    \n",
      "_________________________________________________________________\n",
      "dense_1 (Dense)              (None, 200)               80200     \n",
      "_________________________________________________________________\n",
      "dense_2 (Dense)              (None, 10)                2010      \n",
      "=================================================================\n",
      "Total params: 396,210\n",
      "Trainable params: 396,210\n",
      "Non-trainable params: 0\n",
      "_________________________________________________________________\n",
      "None\n"
     ]
    }
   ],
   "source": [
    "import numpy as np  \n",
    "import keras\n",
    "from keras.datasets import mnist\n",
    "from keras.layers import Dense, Dropout, Activation, Flatten\n",
    "from keras.utils import np_utils\n",
    "from matplotlib import pyplot as plt\n",
    "import os\n",
    "from datetime import datetime\n",
    "\n",
    "start=datetime.now()\n",
    "\n",
    "# 載入 MNIST 資料庫的訓練資料，並自動分為『訓練組』及『測試組』\n",
    "(X_train, y_train), (X_test, y_test) = mnist.load_data()\n",
    "\n",
    "\n",
    "# 建立簡單的線性執行的模型\n",
    "model = keras.models.Sequential()\n",
    "# Add Input layer, hidden layer\n",
    "model.add(Dense(units=400, input_dim=784, kernel_initializer='normal', activation='relu')) \n",
    "model.add(Dense(units=200, activation='relu')) \n",
    "# Add output layer\n",
    "model.add(Dense(units=10, kernel_initializer='normal', activation='softmax'))\n",
    "\n",
    "# 編譯: 選擇損失函數、優化方法及成效衡量方式\n",
    "model.compile(loss='categorical_crossentropy', optimizer='adam', metrics=['accuracy']) \n",
    "\n",
    "# 進行 one-hot encoding\n",
    "y_TrainOneHot = np_utils.to_categorical(y_train) \n",
    "y_TestOneHot = np_utils.to_categorical(y_test) \n",
    "\n",
    "# 將 input 資料轉為2維\n",
    "X_train_2D = X_train.reshape(60000, 28*28).astype('float32')  \n",
    "X_test_2D = X_test.reshape(10000, 28*28).astype('float32')  \n",
    "\n",
    "x_Train_norm = X_train_2D/255\n",
    "x_Test_norm = X_test_2D/255\n",
    "\n",
    "print(model.summary())"
   ]
  },
  {
   "cell_type": "code",
   "execution_count": 2,
   "metadata": {},
   "outputs": [
    {
     "data": {
      "text/plain": [
       "(0.0, 1.0)"
      ]
     },
     "execution_count": 2,
     "metadata": {},
     "output_type": "execute_result"
    }
   ],
   "source": [
    "x_Train_norm.min(), x_Train_norm.max()"
   ]
  },
  {
   "cell_type": "code",
   "execution_count": 3,
   "metadata": {
    "scrolled": true
   },
   "outputs": [
    {
     "name": "stdout",
     "output_type": "stream",
     "text": [
      "Epoch 1/50\n",
      "240/240 - 2s - loss: 0.3422 - accuracy: 0.9064 - val_loss: 0.1601 - val_accuracy: 0.9547\n",
      "Epoch 2/50\n",
      "240/240 - 2s - loss: 0.1236 - accuracy: 0.9638 - val_loss: 0.1116 - val_accuracy: 0.9668\n",
      "Epoch 3/50\n",
      "240/240 - 2s - loss: 0.0800 - accuracy: 0.9754 - val_loss: 0.0875 - val_accuracy: 0.9728\n",
      "Epoch 4/50\n",
      "240/240 - 2s - loss: 0.0559 - accuracy: 0.9824 - val_loss: 0.0931 - val_accuracy: 0.9725\n",
      "Epoch 5/50\n",
      "240/240 - 2s - loss: 0.0413 - accuracy: 0.9875 - val_loss: 0.0876 - val_accuracy: 0.9736\n",
      "Epoch 6/50\n",
      "240/240 - 2s - loss: 0.0293 - accuracy: 0.9911 - val_loss: 0.0859 - val_accuracy: 0.9747\n",
      "Epoch 7/50\n",
      "240/240 - 2s - loss: 0.0202 - accuracy: 0.9941 - val_loss: 0.0860 - val_accuracy: 0.9768\n",
      "Epoch 8/50\n",
      "240/240 - 2s - loss: 0.0149 - accuracy: 0.9957 - val_loss: 0.1066 - val_accuracy: 0.9708\n",
      "Epoch 9/50\n",
      "240/240 - 2s - loss: 0.0123 - accuracy: 0.9967 - val_loss: 0.0961 - val_accuracy: 0.9754\n",
      "Epoch 10/50\n",
      "240/240 - 2s - loss: 0.0125 - accuracy: 0.9964 - val_loss: 0.0942 - val_accuracy: 0.9769\n",
      "Epoch 11/50\n",
      "240/240 - 2s - loss: 0.0079 - accuracy: 0.9977 - val_loss: 0.0880 - val_accuracy: 0.9794\n",
      "Epoch 12/50\n",
      "240/240 - 2s - loss: 0.0092 - accuracy: 0.9972 - val_loss: 0.0929 - val_accuracy: 0.9792\n",
      "Epoch 13/50\n",
      "240/240 - 2s - loss: 0.0080 - accuracy: 0.9974 - val_loss: 0.1057 - val_accuracy: 0.9759\n",
      "Epoch 14/50\n",
      "240/240 - 2s - loss: 0.0072 - accuracy: 0.9977 - val_loss: 0.1060 - val_accuracy: 0.9765\n",
      "Epoch 15/50\n",
      "240/240 - 2s - loss: 0.0092 - accuracy: 0.9968 - val_loss: 0.1128 - val_accuracy: 0.9762\n",
      "Epoch 16/50\n",
      "240/240 - 2s - loss: 0.0084 - accuracy: 0.9971 - val_loss: 0.1144 - val_accuracy: 0.9767\n",
      "Epoch 17/50\n",
      "240/240 - 2s - loss: 0.0052 - accuracy: 0.9985 - val_loss: 0.1124 - val_accuracy: 0.9781\n",
      "Epoch 18/50\n",
      "240/240 - 2s - loss: 0.0073 - accuracy: 0.9977 - val_loss: 0.1181 - val_accuracy: 0.9763\n",
      "Epoch 19/50\n",
      "240/240 - 2s - loss: 0.0077 - accuracy: 0.9975 - val_loss: 0.1162 - val_accuracy: 0.9772\n",
      "Epoch 20/50\n",
      "240/240 - 2s - loss: 0.0027 - accuracy: 0.9992 - val_loss: 0.1089 - val_accuracy: 0.9791\n",
      "Epoch 21/50\n",
      "240/240 - 2s - loss: 0.0022 - accuracy: 0.9994 - val_loss: 0.1278 - val_accuracy: 0.9762\n",
      "Epoch 22/50\n",
      "240/240 - 2s - loss: 0.0048 - accuracy: 0.9985 - val_loss: 0.1281 - val_accuracy: 0.9758\n",
      "Epoch 23/50\n",
      "240/240 - 2s - loss: 0.0071 - accuracy: 0.9977 - val_loss: 0.1278 - val_accuracy: 0.9758\n",
      "Epoch 24/50\n",
      "240/240 - 2s - loss: 0.0071 - accuracy: 0.9976 - val_loss: 0.1275 - val_accuracy: 0.9773\n",
      "Epoch 25/50\n",
      "240/240 - 2s - loss: 0.0085 - accuracy: 0.9971 - val_loss: 0.1252 - val_accuracy: 0.9772\n",
      "Epoch 26/50\n",
      "240/240 - 2s - loss: 0.0063 - accuracy: 0.9977 - val_loss: 0.1206 - val_accuracy: 0.9788\n",
      "Epoch 27/50\n",
      "240/240 - 2s - loss: 0.0047 - accuracy: 0.9984 - val_loss: 0.1175 - val_accuracy: 0.9792\n",
      "Epoch 28/50\n",
      "240/240 - 2s - loss: 0.0030 - accuracy: 0.9991 - val_loss: 0.1164 - val_accuracy: 0.9797\n",
      "Epoch 29/50\n",
      "240/240 - 2s - loss: 4.1520e-04 - accuracy: 0.9999 - val_loss: 0.1143 - val_accuracy: 0.9809\n",
      "Epoch 30/50\n",
      "240/240 - 2s - loss: 8.4523e-05 - accuracy: 1.0000 - val_loss: 0.1121 - val_accuracy: 0.9814\n",
      "Epoch 31/50\n",
      "240/240 - 2s - loss: 4.8561e-05 - accuracy: 1.0000 - val_loss: 0.1128 - val_accuracy: 0.9821\n",
      "Epoch 32/50\n",
      "240/240 - 2s - loss: 3.8802e-05 - accuracy: 1.0000 - val_loss: 0.1137 - val_accuracy: 0.9822\n",
      "Epoch 33/50\n",
      "240/240 - 2s - loss: 3.2210e-05 - accuracy: 1.0000 - val_loss: 0.1146 - val_accuracy: 0.9822\n",
      "Epoch 34/50\n",
      "240/240 - 2s - loss: 2.7510e-05 - accuracy: 1.0000 - val_loss: 0.1155 - val_accuracy: 0.9824\n",
      "Epoch 35/50\n",
      "240/240 - 2s - loss: 2.3700e-05 - accuracy: 1.0000 - val_loss: 0.1164 - val_accuracy: 0.9824\n",
      "Epoch 36/50\n",
      "240/240 - 2s - loss: 2.0654e-05 - accuracy: 1.0000 - val_loss: 0.1173 - val_accuracy: 0.9825\n",
      "Epoch 37/50\n",
      "240/240 - 2s - loss: 1.8126e-05 - accuracy: 1.0000 - val_loss: 0.1181 - val_accuracy: 0.9826\n",
      "Epoch 38/50\n",
      "240/240 - 2s - loss: 1.5971e-05 - accuracy: 1.0000 - val_loss: 0.1190 - val_accuracy: 0.9827\n",
      "Epoch 39/50\n",
      "240/240 - 2s - loss: 1.4077e-05 - accuracy: 1.0000 - val_loss: 0.1197 - val_accuracy: 0.9827\n",
      "Epoch 40/50\n",
      "240/240 - 2s - loss: 1.2566e-05 - accuracy: 1.0000 - val_loss: 0.1209 - val_accuracy: 0.9825\n",
      "Epoch 41/50\n",
      "240/240 - 2s - loss: 1.1146e-05 - accuracy: 1.0000 - val_loss: 0.1216 - val_accuracy: 0.9826\n",
      "Epoch 42/50\n",
      "240/240 - 2s - loss: 9.9462e-06 - accuracy: 1.0000 - val_loss: 0.1226 - val_accuracy: 0.9825\n",
      "Epoch 43/50\n",
      "240/240 - 2s - loss: 8.8491e-06 - accuracy: 1.0000 - val_loss: 0.1235 - val_accuracy: 0.9825\n",
      "Epoch 44/50\n",
      "240/240 - 2s - loss: 7.9055e-06 - accuracy: 1.0000 - val_loss: 0.1241 - val_accuracy: 0.9827\n",
      "Epoch 45/50\n",
      "240/240 - 2s - loss: 7.0633e-06 - accuracy: 1.0000 - val_loss: 0.1251 - val_accuracy: 0.9828\n",
      "Epoch 46/50\n",
      "240/240 - 2s - loss: 6.3081e-06 - accuracy: 1.0000 - val_loss: 0.1263 - val_accuracy: 0.9827\n",
      "Epoch 47/50\n",
      "240/240 - 2s - loss: 5.6603e-06 - accuracy: 1.0000 - val_loss: 0.1273 - val_accuracy: 0.9827\n",
      "Epoch 48/50\n",
      "240/240 - 2s - loss: 5.0681e-06 - accuracy: 1.0000 - val_loss: 0.1280 - val_accuracy: 0.9829\n",
      "Epoch 49/50\n",
      "240/240 - 2s - loss: 4.5280e-06 - accuracy: 1.0000 - val_loss: 0.1290 - val_accuracy: 0.9828\n",
      "Epoch 50/50\n",
      "240/240 - 2s - loss: 4.0522e-06 - accuracy: 1.0000 - val_loss: 0.1299 - val_accuracy: 0.9826\n"
     ]
    }
   ],
   "source": [
    "# 進行訓練\n",
    "train_history = model.fit(x=x_Train_norm, \n",
    "                          y=y_TrainOneHot, \n",
    "                          validation_split=0.2, \n",
    "                          epochs=50, \n",
    "                          batch_size=200, \n",
    "                          verbose=2)  \n"
   ]
  },
  {
   "cell_type": "code",
   "execution_count": 4,
   "metadata": {},
   "outputs": [
    {
     "data": {
      "image/png": "[encoded data removed]",
      "text/plain": [
       "<Figure size 432x288 with 1 Axes>"
      ]
     },
     "metadata": {
      "needs_background": "light"
     },
     "output_type": "display_data"
    }
   ],
   "source": [
    "%matplotlib inline\n",
    "plt.plot(train_history.history['loss'], color='red')\n",
    "plt.plot(train_history.history['val_loss'], color='blue')\n",
    "plt.show()"
   ]
  },
  {
   "cell_type": "code",
   "execution_count": 5,
   "metadata": {},
   "outputs": [
    {
     "data": {
      "image/png": "[encoded data removed]",
      "text/plain": [
       "<Figure size 432x288 with 1 Axes>"
      ]
     },
     "metadata": {
      "needs_background": "light"
     },
     "output_type": "display_data"
    }
   ],
   "source": [
    "%matplotlib inline\n",
    "plt.plot(train_history.history['accuracy'], color='red')\n",
    "plt.plot(train_history.history['val_accuracy'], color='blue')\n",
    "plt.show()"
   ]
  },
  {
   "cell_type": "code",
   "execution_count": 6,
   "metadata": {},
   "outputs": [
    {
     "name": "stdout",
     "output_type": "stream",
     "text": [
      "1875/1875 [==============================] - 5s 2ms/step - loss: 0.0260 - accuracy: 0.9965\n",
      "\n",
      "\t[Info] Accuracy of training data = 99.7%\n"
     ]
    }
   ],
   "source": [
    "# 訓練成果(分數) 99.7%\n",
    "scores = model.evaluate(x_Train_norm, y_TrainOneHot)  \n",
    "print()  \n",
    "print(\"\\t[Info] Accuracy of training data = {:2.1f}%\".format(scores[1]*100.0))  \n"
   ]
  },
  {
   "cell_type": "code",
   "execution_count": 20,
   "metadata": {},
   "outputs": [
    {
     "data": {
      "text/plain": [
       "(10000, 784)"
      ]
     },
     "execution_count": 20,
     "metadata": {},
     "output_type": "execute_result"
    }
   ],
   "source": [
    "x_Test_norm.shape\n",
    "# 10000個 784 pix"
   ]
  },
  {
   "cell_type": "code",
   "execution_count": 8,
   "metadata": {},
   "outputs": [
    {
     "name": "stdout",
     "output_type": "stream",
     "text": [
      "313/313 [==============================] - 1s 2ms/step - loss: 0.1034 - accuracy: 0.9846\n",
      "\n",
      "\t[Info] Accuracy of testing data = 98.5%\n"
     ]
    }
   ],
   "source": [
    "# 訓練成果(分數) 98.5%\n",
    "scores = model.evaluate(x_Test_norm, y_TestOneHot)  \n",
    "print()  \n",
    "print(\"\\t[Info] Accuracy of testing data = {:2.1f}%\".format(scores[1]*100.0))  \n"
   ]
  },
  {
   "cell_type": "code",
   "execution_count": null,
   "metadata": {},
   "outputs": [],
   "source": [
    "# 以上模型建立完畢"
   ]
  },
  {
   "cell_type": "code",
   "execution_count": null,
   "metadata": {},
   "outputs": [],
   "source": [
    "# 以下開始手寫辨識"
   ]
  },
  {
   "cell_type": "code",
   "execution_count": 29,
   "metadata": {
    "scrolled": true
   },
   "outputs": [
    {
     "data": {
      "image/png": "[encoded data removed]",
      "text/plain": [
       "<Figure size 432x288 with 1 Axes>"
      ]
     },
     "metadata": {
      "needs_background": "light"
     },
     "output_type": "display_data"
    }
   ],
   "source": [
    "import matplotlib.pyplot as plt\n",
    "from skimage import color\n",
    "\n",
    "test = color.rgb2gray(plt.imread('4.jpg'))\n",
    "plt.imshow(test, cmap='gray')\n",
    "plt.show()\n"
   ]
  },
  {
   "cell_type": "code",
   "execution_count": 30,
   "metadata": {},
   "outputs": [
    {
     "data": {
      "text/plain": [
       "(28, 28)"
      ]
     },
     "execution_count": 30,
     "metadata": {},
     "output_type": "execute_result"
    }
   ],
   "source": [
    "test.shape"
   ]
  },
  {
   "cell_type": "code",
   "execution_count": 31,
   "metadata": {},
   "outputs": [
    {
     "data": {
      "text/plain": [
       "array([9], dtype=int64)"
      ]
     },
     "execution_count": 31,
     "metadata": {},
     "output_type": "execute_result"
    }
   ],
   "source": [
    "import numpy as np\n",
    "np.argmax(model.predict(test.reshape(1, 784)), axis=1)"
   ]
  },
  {
   "cell_type": "code",
   "execution_count": null,
   "metadata": {},
   "outputs": [],
   "source": []
  }
 ],
 "metadata": {
  "kernelspec": {
   "display_name": "Python 3 (ipykernel)",
   "language": "python",
   "name": "python3"
  },
  "language_info": {
   "codemirror_mode": {
    "name": "ipython",
    "version": 3
   },
   "file_extension": ".py",
   "mimetype": "text/x-python",
   "name": "python",
   "nbconvert_exporter": "python",
   "pygments_lexer": "ipython3",
   "version": "3.8.3"
  }
 },
 "nbformat": 4,
 "nbformat_minor": 5
}
